{
 "cells": [
  {
   "cell_type": "code",
   "execution_count": 2,
   "metadata": {
    "collapsed": true
   },
   "outputs": [],
   "source": [
    "import numpy as np\n",
    "import pandas as pd\n",
    "import matplotlib.pyplot as plt\n",
    "%matplotlib inline"
   ]
  },
  {
   "cell_type": "code",
   "execution_count": 3,
   "metadata": {},
   "outputs": [
    {
     "data": {
      "text/html": [
       "<div>\n",
       "<style>\n",
       "    .dataframe thead tr:only-child th {\n",
       "        text-align: right;\n",
       "    }\n",
       "\n",
       "    .dataframe thead th {\n",
       "        text-align: left;\n",
       "    }\n",
       "\n",
       "    .dataframe tbody tr th {\n",
       "        vertical-align: top;\n",
       "    }\n",
       "</style>\n",
       "<table border=\"1\" class=\"dataframe\">\n",
       "  <thead>\n",
       "    <tr style=\"text-align: right;\">\n",
       "      <th></th>\n",
       "      <th>ID</th>\n",
       "      <th>Name</th>\n",
       "      <th>Group</th>\n",
       "      <th>SubGroup</th>\n",
       "    </tr>\n",
       "  </thead>\n",
       "  <tbody>\n",
       "    <tr>\n",
       "      <th>0</th>\n",
       "      <td>0</td>\n",
       "      <td>Unknown</td>\n",
       "      <td>NaN</td>\n",
       "      <td>NaN</td>\n",
       "    </tr>\n",
       "    <tr>\n",
       "      <th>1</th>\n",
       "      <td>1</td>\n",
       "      <td>Abathur</td>\n",
       "      <td>Specialist</td>\n",
       "      <td>Utility</td>\n",
       "    </tr>\n",
       "    <tr>\n",
       "      <th>2</th>\n",
       "      <td>2</td>\n",
       "      <td>Anub'arak</td>\n",
       "      <td>Warrior</td>\n",
       "      <td>Tank</td>\n",
       "    </tr>\n",
       "    <tr>\n",
       "      <th>3</th>\n",
       "      <td>3</td>\n",
       "      <td>Arthas</td>\n",
       "      <td>Warrior</td>\n",
       "      <td>Bruiser</td>\n",
       "    </tr>\n",
       "    <tr>\n",
       "      <th>4</th>\n",
       "      <td>4</td>\n",
       "      <td>Azmodan</td>\n",
       "      <td>Specialist</td>\n",
       "      <td>Siege</td>\n",
       "    </tr>\n",
       "  </tbody>\n",
       "</table>\n",
       "</div>"
      ],
      "text/plain": [
       "   ID       Name       Group SubGroup\n",
       "0   0    Unknown         NaN      NaN\n",
       "1   1    Abathur  Specialist  Utility\n",
       "2   2  Anub'arak     Warrior     Tank\n",
       "3   3     Arthas     Warrior  Bruiser\n",
       "4   4    Azmodan  Specialist    Siege"
      ]
     },
     "execution_count": 3,
     "metadata": {},
     "output_type": "execute_result"
    }
   ],
   "source": [
    "Hero_Map = pd.read_csv('HeroIDAndMapID.csv')\n",
    "Hero_Map.head()"
   ]
  },
  {
   "cell_type": "code",
   "execution_count": 4,
   "metadata": {},
   "outputs": [
    {
     "data": {
      "text/html": [
       "<div>\n",
       "<style>\n",
       "    .dataframe thead tr:only-child th {\n",
       "        text-align: right;\n",
       "    }\n",
       "\n",
       "    .dataframe thead th {\n",
       "        text-align: left;\n",
       "    }\n",
       "\n",
       "    .dataframe tbody tr th {\n",
       "        vertical-align: top;\n",
       "    }\n",
       "</style>\n",
       "<table border=\"1\" class=\"dataframe\">\n",
       "  <thead>\n",
       "    <tr style=\"text-align: right;\">\n",
       "      <th></th>\n",
       "      <th>ReplayID</th>\n",
       "      <th>Is Auto Select</th>\n",
       "      <th>HeroID</th>\n",
       "      <th>Hero Level</th>\n",
       "      <th>Is Winner</th>\n",
       "      <th>MMR Before</th>\n",
       "      <th>In Game Level</th>\n",
       "      <th>Takedowns</th>\n",
       "      <th>Killing Blows</th>\n",
       "      <th>Assists</th>\n",
       "      <th>Deaths</th>\n",
       "      <th>Highest Kill Streak</th>\n",
       "      <th>Hero Damage</th>\n",
       "      <th>Siege Damage</th>\n",
       "      <th>Healing</th>\n",
       "      <th>Self Healing</th>\n",
       "      <th>Damage Taken</th>\n",
       "      <th>Experience Contribution</th>\n",
       "      <th>Time Spent Dead</th>\n",
       "      <th>Merc Camp Captures</th>\n",
       "    </tr>\n",
       "  </thead>\n",
       "  <tbody>\n",
       "    <tr>\n",
       "      <th>0</th>\n",
       "      <td>123508648</td>\n",
       "      <td>0</td>\n",
       "      <td>42</td>\n",
       "      <td>14</td>\n",
       "      <td>1</td>\n",
       "      <td>1978.0</td>\n",
       "      <td>24</td>\n",
       "      <td>49</td>\n",
       "      <td>3</td>\n",
       "      <td>46</td>\n",
       "      <td>1</td>\n",
       "      <td>42</td>\n",
       "      <td>16313</td>\n",
       "      <td>9331</td>\n",
       "      <td>123140.0</td>\n",
       "      <td>26859</td>\n",
       "      <td>NaN</td>\n",
       "      <td>20551</td>\n",
       "      <td>00:01:05</td>\n",
       "      <td>5</td>\n",
       "    </tr>\n",
       "    <tr>\n",
       "      <th>1</th>\n",
       "      <td>123508648</td>\n",
       "      <td>0</td>\n",
       "      <td>52</td>\n",
       "      <td>12</td>\n",
       "      <td>1</td>\n",
       "      <td>2037.0</td>\n",
       "      <td>24</td>\n",
       "      <td>51</td>\n",
       "      <td>15</td>\n",
       "      <td>36</td>\n",
       "      <td>8</td>\n",
       "      <td>18</td>\n",
       "      <td>89553</td>\n",
       "      <td>28938</td>\n",
       "      <td>NaN</td>\n",
       "      <td>0</td>\n",
       "      <td>NaN</td>\n",
       "      <td>17580</td>\n",
       "      <td>00:06:31</td>\n",
       "      <td>0</td>\n",
       "    </tr>\n",
       "    <tr>\n",
       "      <th>2</th>\n",
       "      <td>123508648</td>\n",
       "      <td>0</td>\n",
       "      <td>68</td>\n",
       "      <td>3</td>\n",
       "      <td>0</td>\n",
       "      <td>2021.0</td>\n",
       "      <td>24</td>\n",
       "      <td>18</td>\n",
       "      <td>7</td>\n",
       "      <td>11</td>\n",
       "      <td>17</td>\n",
       "      <td>5</td>\n",
       "      <td>74827</td>\n",
       "      <td>53071</td>\n",
       "      <td>16740.0</td>\n",
       "      <td>14769</td>\n",
       "      <td>NaN</td>\n",
       "      <td>15559</td>\n",
       "      <td>00:09:48</td>\n",
       "      <td>2</td>\n",
       "    </tr>\n",
       "    <tr>\n",
       "      <th>3</th>\n",
       "      <td>123508648</td>\n",
       "      <td>0</td>\n",
       "      <td>59</td>\n",
       "      <td>10</td>\n",
       "      <td>0</td>\n",
       "      <td>1886.0</td>\n",
       "      <td>24</td>\n",
       "      <td>19</td>\n",
       "      <td>3</td>\n",
       "      <td>16</td>\n",
       "      <td>13</td>\n",
       "      <td>5</td>\n",
       "      <td>54413</td>\n",
       "      <td>38493</td>\n",
       "      <td>NaN</td>\n",
       "      <td>0</td>\n",
       "      <td>133770.0</td>\n",
       "      <td>16002</td>\n",
       "      <td>00:08:21</td>\n",
       "      <td>3</td>\n",
       "    </tr>\n",
       "    <tr>\n",
       "      <th>4</th>\n",
       "      <td>123508648</td>\n",
       "      <td>0</td>\n",
       "      <td>40</td>\n",
       "      <td>20</td>\n",
       "      <td>1</td>\n",
       "      <td>2046.0</td>\n",
       "      <td>24</td>\n",
       "      <td>51</td>\n",
       "      <td>25</td>\n",
       "      <td>26</td>\n",
       "      <td>7</td>\n",
       "      <td>21</td>\n",
       "      <td>78745</td>\n",
       "      <td>50724</td>\n",
       "      <td>NaN</td>\n",
       "      <td>17618</td>\n",
       "      <td>NaN</td>\n",
       "      <td>23765</td>\n",
       "      <td>00:04:21</td>\n",
       "      <td>6</td>\n",
       "    </tr>\n",
       "  </tbody>\n",
       "</table>\n",
       "</div>"
      ],
      "text/plain": [
       "    ReplayID  Is Auto Select  HeroID  Hero Level  Is Winner  MMR Before  \\\n",
       "0  123508648               0      42          14          1      1978.0   \n",
       "1  123508648               0      52          12          1      2037.0   \n",
       "2  123508648               0      68           3          0      2021.0   \n",
       "3  123508648               0      59          10          0      1886.0   \n",
       "4  123508648               0      40          20          1      2046.0   \n",
       "\n",
       "   In Game Level  Takedowns  Killing Blows  Assists  Deaths  \\\n",
       "0             24         49              3       46       1   \n",
       "1             24         51             15       36       8   \n",
       "2             24         18              7       11      17   \n",
       "3             24         19              3       16      13   \n",
       "4             24         51             25       26       7   \n",
       "\n",
       "   Highest Kill Streak  Hero Damage  Siege Damage   Healing  Self Healing  \\\n",
       "0                   42        16313          9331  123140.0         26859   \n",
       "1                   18        89553         28938       NaN             0   \n",
       "2                    5        74827         53071   16740.0         14769   \n",
       "3                    5        54413         38493       NaN             0   \n",
       "4                   21        78745         50724       NaN         17618   \n",
       "\n",
       "   Damage Taken  Experience Contribution Time Spent Dead  Merc Camp Captures  \n",
       "0           NaN                    20551        00:01:05                   5  \n",
       "1           NaN                    17580        00:06:31                   0  \n",
       "2           NaN                    15559        00:09:48                   2  \n",
       "3      133770.0                    16002        00:08:21                   3  \n",
       "4           NaN                    23765        00:04:21                   6  "
      ]
     },
     "execution_count": 4,
     "metadata": {},
     "output_type": "execute_result"
    }
   ],
   "source": [
    "Rep_Char = pd.read_csv('ReplayCharacters.csv')\n",
    "Rep_Char.head()"
   ]
  },
  {
   "cell_type": "code",
   "execution_count": 5,
   "metadata": {},
   "outputs": [
    {
     "data": {
      "text/html": [
       "<div>\n",
       "<style>\n",
       "    .dataframe thead tr:only-child th {\n",
       "        text-align: right;\n",
       "    }\n",
       "\n",
       "    .dataframe thead th {\n",
       "        text-align: left;\n",
       "    }\n",
       "\n",
       "    .dataframe tbody tr th {\n",
       "        vertical-align: top;\n",
       "    }\n",
       "</style>\n",
       "<table border=\"1\" class=\"dataframe\">\n",
       "  <thead>\n",
       "    <tr style=\"text-align: right;\">\n",
       "      <th></th>\n",
       "      <th>ReplayID</th>\n",
       "      <th>GameMode(3=Quick Match 4=Hero League 5=Team League 6=Unranked Draft)</th>\n",
       "      <th>MapID</th>\n",
       "      <th>Replay Length</th>\n",
       "      <th>Timestamp (UTC)</th>\n",
       "    </tr>\n",
       "  </thead>\n",
       "  <tbody>\n",
       "    <tr>\n",
       "      <th>0</th>\n",
       "      <td>123508648</td>\n",
       "      <td>3</td>\n",
       "      <td>1001</td>\n",
       "      <td>00:31:59</td>\n",
       "      <td>9/22/2017 3:01:18 AM</td>\n",
       "    </tr>\n",
       "    <tr>\n",
       "      <th>1</th>\n",
       "      <td>123826826</td>\n",
       "      <td>3</td>\n",
       "      <td>1003</td>\n",
       "      <td>00:22:32</td>\n",
       "      <td>9/22/2017 3:01:22 AM</td>\n",
       "    </tr>\n",
       "    <tr>\n",
       "      <th>2</th>\n",
       "      <td>123789056</td>\n",
       "      <td>3</td>\n",
       "      <td>1007</td>\n",
       "      <td>00:21:24</td>\n",
       "      <td>9/22/2017 3:01:23 AM</td>\n",
       "    </tr>\n",
       "    <tr>\n",
       "      <th>3</th>\n",
       "      <td>126610491</td>\n",
       "      <td>3</td>\n",
       "      <td>1001</td>\n",
       "      <td>00:15:52</td>\n",
       "      <td>9/22/2017 3:01:24 AM</td>\n",
       "    </tr>\n",
       "    <tr>\n",
       "      <th>4</th>\n",
       "      <td>123497937</td>\n",
       "      <td>3</td>\n",
       "      <td>1008</td>\n",
       "      <td>00:22:55</td>\n",
       "      <td>9/22/2017 3:01:25 AM</td>\n",
       "    </tr>\n",
       "  </tbody>\n",
       "</table>\n",
       "</div>"
      ],
      "text/plain": [
       "    ReplayID  \\\n",
       "0  123508648   \n",
       "1  123826826   \n",
       "2  123789056   \n",
       "3  126610491   \n",
       "4  123497937   \n",
       "\n",
       "   GameMode(3=Quick Match 4=Hero League 5=Team League 6=Unranked Draft)  \\\n",
       "0                                                  3                      \n",
       "1                                                  3                      \n",
       "2                                                  3                      \n",
       "3                                                  3                      \n",
       "4                                                  3                      \n",
       "\n",
       "   MapID Replay Length       Timestamp (UTC)  \n",
       "0   1001      00:31:59  9/22/2017 3:01:18 AM  \n",
       "1   1003      00:22:32  9/22/2017 3:01:22 AM  \n",
       "2   1007      00:21:24  9/22/2017 3:01:23 AM  \n",
       "3   1001      00:15:52  9/22/2017 3:01:24 AM  \n",
       "4   1008      00:22:55  9/22/2017 3:01:25 AM  "
      ]
     },
     "execution_count": 5,
     "metadata": {},
     "output_type": "execute_result"
    }
   ],
   "source": [
    "Rep = pd.read_csv('Replays.csv')\n",
    "Rep.head()"
   ]
  },
  {
   "cell_type": "markdown",
   "metadata": {},
   "source": [
    "# Replay_character 필요 칼럼만 모으기"
   ]
  },
  {
   "cell_type": "code",
   "execution_count": 6,
   "metadata": {},
   "outputs": [
    {
     "data": {
      "text/html": [
       "<div>\n",
       "<style>\n",
       "    .dataframe thead tr:only-child th {\n",
       "        text-align: right;\n",
       "    }\n",
       "\n",
       "    .dataframe thead th {\n",
       "        text-align: left;\n",
       "    }\n",
       "\n",
       "    .dataframe tbody tr th {\n",
       "        vertical-align: top;\n",
       "    }\n",
       "</style>\n",
       "<table border=\"1\" class=\"dataframe\">\n",
       "  <thead>\n",
       "    <tr style=\"text-align: right;\">\n",
       "      <th></th>\n",
       "      <th>ReplayID</th>\n",
       "      <th>HeroID</th>\n",
       "      <th>Hero Level</th>\n",
       "      <th>Is Winner</th>\n",
       "      <th>In Game Level</th>\n",
       "      <th>Takedowns</th>\n",
       "      <th>Killing Blows</th>\n",
       "      <th>Assists</th>\n",
       "      <th>Deaths</th>\n",
       "      <th>Hero Damage</th>\n",
       "      <th>Siege Damage</th>\n",
       "      <th>Healing</th>\n",
       "      <th>Self Healing</th>\n",
       "      <th>Damage Taken</th>\n",
       "      <th>Time Spent Dead</th>\n",
       "    </tr>\n",
       "  </thead>\n",
       "  <tbody>\n",
       "    <tr>\n",
       "      <th>0</th>\n",
       "      <td>123508648</td>\n",
       "      <td>42</td>\n",
       "      <td>14</td>\n",
       "      <td>1</td>\n",
       "      <td>24</td>\n",
       "      <td>49</td>\n",
       "      <td>3</td>\n",
       "      <td>46</td>\n",
       "      <td>1</td>\n",
       "      <td>16313</td>\n",
       "      <td>9331</td>\n",
       "      <td>123140.0</td>\n",
       "      <td>26859</td>\n",
       "      <td>NaN</td>\n",
       "      <td>00:01:05</td>\n",
       "    </tr>\n",
       "    <tr>\n",
       "      <th>1</th>\n",
       "      <td>123508648</td>\n",
       "      <td>52</td>\n",
       "      <td>12</td>\n",
       "      <td>1</td>\n",
       "      <td>24</td>\n",
       "      <td>51</td>\n",
       "      <td>15</td>\n",
       "      <td>36</td>\n",
       "      <td>8</td>\n",
       "      <td>89553</td>\n",
       "      <td>28938</td>\n",
       "      <td>NaN</td>\n",
       "      <td>0</td>\n",
       "      <td>NaN</td>\n",
       "      <td>00:06:31</td>\n",
       "    </tr>\n",
       "    <tr>\n",
       "      <th>2</th>\n",
       "      <td>123508648</td>\n",
       "      <td>68</td>\n",
       "      <td>3</td>\n",
       "      <td>0</td>\n",
       "      <td>24</td>\n",
       "      <td>18</td>\n",
       "      <td>7</td>\n",
       "      <td>11</td>\n",
       "      <td>17</td>\n",
       "      <td>74827</td>\n",
       "      <td>53071</td>\n",
       "      <td>16740.0</td>\n",
       "      <td>14769</td>\n",
       "      <td>NaN</td>\n",
       "      <td>00:09:48</td>\n",
       "    </tr>\n",
       "    <tr>\n",
       "      <th>3</th>\n",
       "      <td>123508648</td>\n",
       "      <td>59</td>\n",
       "      <td>10</td>\n",
       "      <td>0</td>\n",
       "      <td>24</td>\n",
       "      <td>19</td>\n",
       "      <td>3</td>\n",
       "      <td>16</td>\n",
       "      <td>13</td>\n",
       "      <td>54413</td>\n",
       "      <td>38493</td>\n",
       "      <td>NaN</td>\n",
       "      <td>0</td>\n",
       "      <td>133770.0</td>\n",
       "      <td>00:08:21</td>\n",
       "    </tr>\n",
       "    <tr>\n",
       "      <th>4</th>\n",
       "      <td>123508648</td>\n",
       "      <td>40</td>\n",
       "      <td>20</td>\n",
       "      <td>1</td>\n",
       "      <td>24</td>\n",
       "      <td>51</td>\n",
       "      <td>25</td>\n",
       "      <td>26</td>\n",
       "      <td>7</td>\n",
       "      <td>78745</td>\n",
       "      <td>50724</td>\n",
       "      <td>NaN</td>\n",
       "      <td>17618</td>\n",
       "      <td>NaN</td>\n",
       "      <td>00:04:21</td>\n",
       "    </tr>\n",
       "  </tbody>\n",
       "</table>\n",
       "</div>"
      ],
      "text/plain": [
       "    ReplayID  HeroID  Hero Level  Is Winner  In Game Level  Takedowns  \\\n",
       "0  123508648      42          14          1             24         49   \n",
       "1  123508648      52          12          1             24         51   \n",
       "2  123508648      68           3          0             24         18   \n",
       "3  123508648      59          10          0             24         19   \n",
       "4  123508648      40          20          1             24         51   \n",
       "\n",
       "   Killing Blows  Assists  Deaths  Hero Damage  Siege Damage   Healing  \\\n",
       "0              3       46       1        16313          9331  123140.0   \n",
       "1             15       36       8        89553         28938       NaN   \n",
       "2              7       11      17        74827         53071   16740.0   \n",
       "3              3       16      13        54413         38493       NaN   \n",
       "4             25       26       7        78745         50724       NaN   \n",
       "\n",
       "   Self Healing  Damage Taken Time Spent Dead  \n",
       "0         26859           NaN        00:01:05  \n",
       "1             0           NaN        00:06:31  \n",
       "2         14769           NaN        00:09:48  \n",
       "3             0      133770.0        00:08:21  \n",
       "4         17618           NaN        00:04:21  "
      ]
     },
     "execution_count": 6,
     "metadata": {},
     "output_type": "execute_result"
    }
   ],
   "source": [
    "Rep_Char1 = Rep_Char[['ReplayID','HeroID','Hero Level','Is Winner','In Game Level','Takedowns','Killing Blows','Assists','Deaths','Hero Damage','Siege Damage','Healing','Self Healing','Damage Taken','Time Spent Dead']]\n",
    "Rep_Char1.head()\n"
   ]
  },
  {
   "cell_type": "markdown",
   "metadata": {},
   "source": [
    "# 1. 숙련도와 승률간의 관계"
   ]
  },
  {
   "cell_type": "code",
   "execution_count": 7,
   "metadata": {},
   "outputs": [
    {
     "data": {
      "text/html": [
       "<div>\n",
       "<style>\n",
       "    .dataframe thead tr:only-child th {\n",
       "        text-align: right;\n",
       "    }\n",
       "\n",
       "    .dataframe thead th {\n",
       "        text-align: left;\n",
       "    }\n",
       "\n",
       "    .dataframe tbody tr th {\n",
       "        vertical-align: top;\n",
       "    }\n",
       "</style>\n",
       "<table border=\"1\" class=\"dataframe\">\n",
       "  <thead>\n",
       "    <tr style=\"text-align: right;\">\n",
       "      <th></th>\n",
       "      <th>Is Winner</th>\n",
       "      <th>Hero Level</th>\n",
       "    </tr>\n",
       "  </thead>\n",
       "  <tbody>\n",
       "    <tr>\n",
       "      <th>0</th>\n",
       "      <td>1</td>\n",
       "      <td>14</td>\n",
       "    </tr>\n",
       "    <tr>\n",
       "      <th>1</th>\n",
       "      <td>1</td>\n",
       "      <td>12</td>\n",
       "    </tr>\n",
       "    <tr>\n",
       "      <th>2</th>\n",
       "      <td>0</td>\n",
       "      <td>3</td>\n",
       "    </tr>\n",
       "    <tr>\n",
       "      <th>3</th>\n",
       "      <td>0</td>\n",
       "      <td>10</td>\n",
       "    </tr>\n",
       "    <tr>\n",
       "      <th>4</th>\n",
       "      <td>1</td>\n",
       "      <td>20</td>\n",
       "    </tr>\n",
       "  </tbody>\n",
       "</table>\n",
       "</div>"
      ],
      "text/plain": [
       "   Is Winner  Hero Level\n",
       "0          1          14\n",
       "1          1          12\n",
       "2          0           3\n",
       "3          0          10\n",
       "4          1          20"
      ]
     },
     "execution_count": 7,
     "metadata": {},
     "output_type": "execute_result"
    }
   ],
   "source": [
    "# 일단 Replay_character 파일에서 is winner 랑 Hero Level이랑 묶기\n",
    "Rep_Char01 = Rep_Char1[['Is Winner','Hero Level']]\n",
    "Rep_Char01.head()"
   ]
  },
  {
   "cell_type": "code",
   "execution_count": 8,
   "metadata": {},
   "outputs": [
    {
     "data": {
      "text/plain": [
       "100359340"
      ]
     },
     "execution_count": 8,
     "metadata": {},
     "output_type": "execute_result"
    }
   ],
   "source": [
    "# winner와 defeat 간의 전체 hero level 합 비교\n",
    "# 진 사람들의 총 숙련도\n",
    "a1 = Rep_Char01[Rep_Char01['Is Winner'] == 0]\n",
    "a1.head()\n",
    "a2 = a1['Hero Level'].sum()\n",
    "a2"
   ]
  },
  {
   "cell_type": "code",
   "execution_count": 9,
   "metadata": {},
   "outputs": [
    {
     "data": {
      "text/plain": [
       "104773773"
      ]
     },
     "execution_count": 9,
     "metadata": {},
     "output_type": "execute_result"
    }
   ],
   "source": [
    "# 이긴사람들의 총 숙련도\n",
    "a3 = Rep_Char01[Rep_Char01['Is Winner'] == 1]\n",
    "a3.head()\n",
    "a4 = a3['Hero Level'].sum()\n",
    "a4"
   ]
  },
  {
   "cell_type": "code",
   "execution_count": null,
   "metadata": {
    "collapsed": true
   },
   "outputs": [],
   "source": [
    "# 위의꺼 결론 -> a2(진놈들 숙련도) < a4(이긴놈들 숙련도), 대충 1%높음"
   ]
  },
  {
   "cell_type": "code",
   "execution_count": 10,
   "metadata": {
    "scrolled": true
   },
   "outputs": [
    {
     "data": {
      "text/plain": [
       "9531250"
      ]
     },
     "execution_count": 10,
     "metadata": {},
     "output_type": "execute_result"
    }
   ],
   "source": [
    "# 전체 수량\n",
    "a0 = Rep_Char01['Is Winner'].value_counts()\n",
    "a0[1] "
   ]
  },
  {
   "cell_type": "code",
   "execution_count": 11,
   "metadata": {},
   "outputs": [
    {
     "data": {
      "text/plain": [
       "10.992658150819672"
      ]
     },
     "execution_count": 11,
     "metadata": {},
     "output_type": "execute_result"
    }
   ],
   "source": [
    "# 이긴 사람 평균 숙련도\n",
    "a11 = a4/a0[1]\n",
    "a11"
   ]
  },
  {
   "cell_type": "code",
   "execution_count": 12,
   "metadata": {},
   "outputs": [
    {
     "data": {
      "text/plain": [
       "10.529504524590164"
      ]
     },
     "execution_count": 12,
     "metadata": {},
     "output_type": "execute_result"
    }
   ],
   "source": [
    "# 진 사람 평균 숙련도\n",
    "a12 = a2/a0[1]\n",
    "a12"
   ]
  },
  {
   "cell_type": "markdown",
   "metadata": {},
   "source": [
    "# 2. ReplayID 끼리 합쳐서 전체 딜량 확인하기"
   ]
  },
  {
   "cell_type": "code",
   "execution_count": 13,
   "metadata": {},
   "outputs": [
    {
     "data": {
      "text/html": [
       "<div>\n",
       "<style>\n",
       "    .dataframe thead tr:only-child th {\n",
       "        text-align: right;\n",
       "    }\n",
       "\n",
       "    .dataframe thead th {\n",
       "        text-align: left;\n",
       "    }\n",
       "\n",
       "    .dataframe tbody tr th {\n",
       "        vertical-align: top;\n",
       "    }\n",
       "</style>\n",
       "<table border=\"1\" class=\"dataframe\">\n",
       "  <thead>\n",
       "    <tr style=\"text-align: right;\">\n",
       "      <th></th>\n",
       "      <th>ReplayID</th>\n",
       "      <th>Hero Damage</th>\n",
       "    </tr>\n",
       "  </thead>\n",
       "  <tbody>\n",
       "    <tr>\n",
       "      <th>0</th>\n",
       "      <td>123508648</td>\n",
       "      <td>16313</td>\n",
       "    </tr>\n",
       "    <tr>\n",
       "      <th>1</th>\n",
       "      <td>123508648</td>\n",
       "      <td>89553</td>\n",
       "    </tr>\n",
       "    <tr>\n",
       "      <th>2</th>\n",
       "      <td>123508648</td>\n",
       "      <td>74827</td>\n",
       "    </tr>\n",
       "    <tr>\n",
       "      <th>3</th>\n",
       "      <td>123508648</td>\n",
       "      <td>54413</td>\n",
       "    </tr>\n",
       "    <tr>\n",
       "      <th>4</th>\n",
       "      <td>123508648</td>\n",
       "      <td>78745</td>\n",
       "    </tr>\n",
       "  </tbody>\n",
       "</table>\n",
       "</div>"
      ],
      "text/plain": [
       "    ReplayID  Hero Damage\n",
       "0  123508648        16313\n",
       "1  123508648        89553\n",
       "2  123508648        74827\n",
       "3  123508648        54413\n",
       "4  123508648        78745"
      ]
     },
     "execution_count": 13,
     "metadata": {},
     "output_type": "execute_result"
    }
   ],
   "source": [
    "# ReplayID랑 Hero Damage로 모으기\n",
    "Rep_Char02 = Rep_Char[['ReplayID','Hero Damage']]\n",
    "Rep_Char02.head()"
   ]
  },
  {
   "cell_type": "code",
   "execution_count": 14,
   "metadata": {},
   "outputs": [
    {
     "ename": "IndentationError",
     "evalue": "expected an indented block (<ipython-input-14-de7c8fce1c8e>, line 11)",
     "output_type": "error",
     "traceback": [
      "\u001b[1;36m  File \u001b[1;32m\"<ipython-input-14-de7c8fce1c8e>\"\u001b[1;36m, line \u001b[1;32m11\u001b[0m\n\u001b[1;33m    for i in range(0,9):\u001b[0m\n\u001b[1;37m      ^\u001b[0m\n\u001b[1;31mIndentationError\u001b[0m\u001b[1;31m:\u001b[0m expected an indented block\n"
     ]
    }
   ],
   "source": [
    "# 합치기\n",
    "\n",
    "k = pd.DataFrame(np.random.randn(953124,2))\n",
    "\n",
    "for i in range(0,10):\n",
    "    k[0].loc[i] = Rep_Char02['Hero Damage'].loc[10*i];\n",
    "\n",
    "    \n",
    "for j in range(0,100):\n",
    "    \n",
    "for i in range(0,9):\n",
    "    if Rep_Char02['ReplayID'].loc[i] == Rep_Char02['ReplayID'].loc[i+1]:\n",
    "        k[0].loc[0] = k[0].loc[0] + Rep_Char02['Hero Damage'].loc[i+1]\n",
    "\n",
    "\n",
    "k.head()"
   ]
  },
  {
   "cell_type": "markdown",
   "metadata": {},
   "source": [
    "# 3. HeroID랑 이름이랑 바꾸기"
   ]
  },
  {
   "cell_type": "code",
   "execution_count": 88,
   "metadata": {},
   "outputs": [
    {
     "name": "stderr",
     "output_type": "stream",
     "text": [
      "C:\\Users\\bhheo93\\Anaconda3\\lib\\site-packages\\ipykernel_launcher.py:3: SettingWithCopyWarning: \n",
      "A value is trying to be set on a copy of a slice from a DataFrame.\n",
      "Try using .loc[row_indexer,col_indexer] = value instead\n",
      "\n",
      "See the caveats in the documentation: http://pandas.pydata.org/pandas-docs/stable/indexing.html#indexing-view-versus-copy\n",
      "  This is separate from the ipykernel package so we can avoid doing imports until\n"
     ]
    },
    {
     "data": {
      "text/plain": [
       "0               Unknown\n",
       "1               Abathur\n",
       "2             Anub'arak\n",
       "3                Arthas\n",
       "4               Azmodan\n",
       "5            Brightwing\n",
       "6                  Chen\n",
       "7                Diablo\n",
       "8                E.T.C.\n",
       "9               Falstad\n",
       "10              Gazlowe\n",
       "11              Illidan\n",
       "12                Jaina\n",
       "13              Johanna\n",
       "14            Kael'thas\n",
       "15             Kerrigan\n",
       "16             Kharazim\n",
       "17               Leoric\n",
       "18                Li Li\n",
       "19            Malfurion\n",
       "20              Muradin\n",
       "21                Murky\n",
       "22              Nazeebo\n",
       "23                 Nova\n",
       "24               Raynor\n",
       "25               Rehgar\n",
       "26          Sgt. Hammer\n",
       "27                Sonya\n",
       "28             Stitches\n",
       "29             Sylvanas\n",
       "               ...     \n",
       "19062470            NaN\n",
       "19062471            NaN\n",
       "19062472            NaN\n",
       "19062473            NaN\n",
       "19062474            NaN\n",
       "19062475            NaN\n",
       "19062476            NaN\n",
       "19062477            NaN\n",
       "19062478            NaN\n",
       "19062479            NaN\n",
       "19062480            NaN\n",
       "19062481            NaN\n",
       "19062482            NaN\n",
       "19062483            NaN\n",
       "19062484            NaN\n",
       "19062485            NaN\n",
       "19062486            NaN\n",
       "19062487            NaN\n",
       "19062488            NaN\n",
       "19062489            NaN\n",
       "19062490            NaN\n",
       "19062491            NaN\n",
       "19062492            NaN\n",
       "19062493            NaN\n",
       "19062494            NaN\n",
       "19062495            NaN\n",
       "19062496            NaN\n",
       "19062497            NaN\n",
       "19062498            NaN\n",
       "19062499            NaN\n",
       "Name: HeroID, Length: 19062500, dtype: object"
      ]
     },
     "execution_count": 88,
     "metadata": {},
     "output_type": "execute_result"
    }
   ],
   "source": [
    "for i in range(1,1000):\n",
    "    if Hero_Map['ID'].loc[1] == Rep_Char1['HeroID'].loc[i]:\n",
    "        Rep_Char1['HeroID'] = Hero_Map['Name']\n",
    "Rep_Char1['HeroID']\n",
    "    "
   ]
  },
  {
   "cell_type": "code",
   "execution_count": null,
   "metadata": {
    "collapsed": true
   },
   "outputs": [],
   "source": []
  },
  {
   "cell_type": "code",
   "execution_count": null,
   "metadata": {
    "collapsed": true
   },
   "outputs": [],
   "source": []
  },
  {
   "cell_type": "code",
   "execution_count": null,
   "metadata": {
    "collapsed": true
   },
   "outputs": [],
   "source": []
  },
  {
   "cell_type": "code",
   "execution_count": null,
   "metadata": {
    "collapsed": true
   },
   "outputs": [],
   "source": []
  },
  {
   "cell_type": "code",
   "execution_count": null,
   "metadata": {
    "collapsed": true
   },
   "outputs": [],
   "source": []
  },
  {
   "cell_type": "code",
   "execution_count": null,
   "metadata": {
    "collapsed": true
   },
   "outputs": [],
   "source": []
  },
  {
   "cell_type": "code",
   "execution_count": null,
   "metadata": {
    "collapsed": true
   },
   "outputs": [],
   "source": []
  },
  {
   "cell_type": "code",
   "execution_count": null,
   "metadata": {
    "collapsed": true
   },
   "outputs": [],
   "source": []
  },
  {
   "cell_type": "code",
   "execution_count": null,
   "metadata": {
    "collapsed": true
   },
   "outputs": [],
   "source": []
  },
  {
   "cell_type": "code",
   "execution_count": null,
   "metadata": {
    "collapsed": true
   },
   "outputs": [],
   "source": []
  },
  {
   "cell_type": "code",
   "execution_count": null,
   "metadata": {
    "collapsed": true
   },
   "outputs": [],
   "source": []
  },
  {
   "cell_type": "code",
   "execution_count": null,
   "metadata": {
    "collapsed": true
   },
   "outputs": [],
   "source": []
  },
  {
   "cell_type": "code",
   "execution_count": null,
   "metadata": {
    "collapsed": true
   },
   "outputs": [],
   "source": []
  },
  {
   "cell_type": "code",
   "execution_count": null,
   "metadata": {
    "collapsed": true
   },
   "outputs": [],
   "source": []
  },
  {
   "cell_type": "code",
   "execution_count": null,
   "metadata": {
    "collapsed": true
   },
   "outputs": [],
   "source": []
  },
  {
   "cell_type": "code",
   "execution_count": null,
   "metadata": {
    "collapsed": true
   },
   "outputs": [],
   "source": []
  },
  {
   "cell_type": "code",
   "execution_count": null,
   "metadata": {
    "collapsed": true
   },
   "outputs": [],
   "source": []
  },
  {
   "cell_type": "code",
   "execution_count": null,
   "metadata": {
    "collapsed": true
   },
   "outputs": [],
   "source": []
  },
  {
   "cell_type": "code",
   "execution_count": null,
   "metadata": {
    "collapsed": true
   },
   "outputs": [],
   "source": []
  },
  {
   "cell_type": "code",
   "execution_count": null,
   "metadata": {
    "collapsed": true
   },
   "outputs": [],
   "source": []
  },
  {
   "cell_type": "code",
   "execution_count": null,
   "metadata": {
    "collapsed": true
   },
   "outputs": [],
   "source": []
  },
  {
   "cell_type": "code",
   "execution_count": null,
   "metadata": {
    "collapsed": true
   },
   "outputs": [],
   "source": []
  },
  {
   "cell_type": "code",
   "execution_count": null,
   "metadata": {
    "collapsed": true
   },
   "outputs": [],
   "source": []
  },
  {
   "cell_type": "code",
   "execution_count": null,
   "metadata": {
    "collapsed": true
   },
   "outputs": [],
   "source": []
  },
  {
   "cell_type": "code",
   "execution_count": null,
   "metadata": {
    "collapsed": true
   },
   "outputs": [],
   "source": []
  },
  {
   "cell_type": "code",
   "execution_count": null,
   "metadata": {
    "collapsed": true
   },
   "outputs": [],
   "source": []
  },
  {
   "cell_type": "code",
   "execution_count": null,
   "metadata": {
    "collapsed": true
   },
   "outputs": [],
   "source": []
  },
  {
   "cell_type": "code",
   "execution_count": null,
   "metadata": {
    "collapsed": true
   },
   "outputs": [],
   "source": []
  },
  {
   "cell_type": "code",
   "execution_count": null,
   "metadata": {
    "collapsed": true
   },
   "outputs": [],
   "source": []
  },
  {
   "cell_type": "code",
   "execution_count": null,
   "metadata": {
    "collapsed": true
   },
   "outputs": [],
   "source": []
  },
  {
   "cell_type": "code",
   "execution_count": null,
   "metadata": {
    "collapsed": true
   },
   "outputs": [],
   "source": []
  },
  {
   "cell_type": "code",
   "execution_count": null,
   "metadata": {
    "collapsed": true
   },
   "outputs": [],
   "source": []
  },
  {
   "cell_type": "code",
   "execution_count": null,
   "metadata": {
    "collapsed": true
   },
   "outputs": [],
   "source": []
  },
  {
   "cell_type": "code",
   "execution_count": null,
   "metadata": {
    "collapsed": true
   },
   "outputs": [],
   "source": []
  }
 ],
 "metadata": {
  "kernelspec": {
   "display_name": "Python 3",
   "language": "python",
   "name": "python3"
  },
  "language_info": {
   "codemirror_mode": {
    "name": "ipython",
    "version": 3
   },
   "file_extension": ".py",
   "mimetype": "text/x-python",
   "name": "python",
   "nbconvert_exporter": "python",
   "pygments_lexer": "ipython3",
   "version": "3.6.1"
  }
 },
 "nbformat": 4,
 "nbformat_minor": 2
}
