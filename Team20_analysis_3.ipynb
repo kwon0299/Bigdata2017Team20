{
 "cells": [
  {
   "cell_type": "code",
   "execution_count": 1,
   "metadata": {
    "collapsed": true
   },
   "outputs": [],
   "source": [
    "# 시작부분\n",
    "import numpy as np\n",
    "import pandas as pd\n",
    "import matplotlib.pyplot as plt\n",
    "%matplotlib inline\n",
    "Hero_Map = pd.read_csv('HeroIDAndMapID.csv')\n",
    "Rep_Char = pd.read_csv('ReplayCharacters.csv')\n",
    "Rep = pd.read_csv('Replays.csv')"
   ]
  },
  {
   "cell_type": "code",
   "execution_count": 2,
   "metadata": {},
   "outputs": [
    {
     "data": {
      "text/html": [
       "<div>\n",
       "<style>\n",
       "    .dataframe thead tr:only-child th {\n",
       "        text-align: right;\n",
       "    }\n",
       "\n",
       "    .dataframe thead th {\n",
       "        text-align: left;\n",
       "    }\n",
       "\n",
       "    .dataframe tbody tr th {\n",
       "        vertical-align: top;\n",
       "    }\n",
       "</style>\n",
       "<table border=\"1\" class=\"dataframe\">\n",
       "  <thead>\n",
       "    <tr style=\"text-align: right;\">\n",
       "      <th></th>\n",
       "      <th>ReplayID</th>\n",
       "      <th>HeroID</th>\n",
       "      <th>Hero Level</th>\n",
       "      <th>Is Winner</th>\n",
       "      <th>In Game Level</th>\n",
       "      <th>Takedowns</th>\n",
       "      <th>Killing Blows</th>\n",
       "      <th>Assists</th>\n",
       "      <th>Deaths</th>\n",
       "      <th>Hero Damage</th>\n",
       "      <th>Siege Damage</th>\n",
       "      <th>Healing</th>\n",
       "      <th>Self Healing</th>\n",
       "      <th>Damage Taken</th>\n",
       "      <th>Time Spent Dead</th>\n",
       "    </tr>\n",
       "  </thead>\n",
       "  <tbody>\n",
       "    <tr>\n",
       "      <th>0</th>\n",
       "      <td>123508648</td>\n",
       "      <td>42</td>\n",
       "      <td>14</td>\n",
       "      <td>1</td>\n",
       "      <td>24</td>\n",
       "      <td>49</td>\n",
       "      <td>3</td>\n",
       "      <td>46</td>\n",
       "      <td>1</td>\n",
       "      <td>16313</td>\n",
       "      <td>9331</td>\n",
       "      <td>123140.0</td>\n",
       "      <td>26859</td>\n",
       "      <td>NaN</td>\n",
       "      <td>00:01:05</td>\n",
       "    </tr>\n",
       "    <tr>\n",
       "      <th>1</th>\n",
       "      <td>123508648</td>\n",
       "      <td>52</td>\n",
       "      <td>12</td>\n",
       "      <td>1</td>\n",
       "      <td>24</td>\n",
       "      <td>51</td>\n",
       "      <td>15</td>\n",
       "      <td>36</td>\n",
       "      <td>8</td>\n",
       "      <td>89553</td>\n",
       "      <td>28938</td>\n",
       "      <td>NaN</td>\n",
       "      <td>0</td>\n",
       "      <td>NaN</td>\n",
       "      <td>00:06:31</td>\n",
       "    </tr>\n",
       "    <tr>\n",
       "      <th>2</th>\n",
       "      <td>123508648</td>\n",
       "      <td>68</td>\n",
       "      <td>3</td>\n",
       "      <td>0</td>\n",
       "      <td>24</td>\n",
       "      <td>18</td>\n",
       "      <td>7</td>\n",
       "      <td>11</td>\n",
       "      <td>17</td>\n",
       "      <td>74827</td>\n",
       "      <td>53071</td>\n",
       "      <td>16740.0</td>\n",
       "      <td>14769</td>\n",
       "      <td>NaN</td>\n",
       "      <td>00:09:48</td>\n",
       "    </tr>\n",
       "    <tr>\n",
       "      <th>3</th>\n",
       "      <td>123508648</td>\n",
       "      <td>59</td>\n",
       "      <td>10</td>\n",
       "      <td>0</td>\n",
       "      <td>24</td>\n",
       "      <td>19</td>\n",
       "      <td>3</td>\n",
       "      <td>16</td>\n",
       "      <td>13</td>\n",
       "      <td>54413</td>\n",
       "      <td>38493</td>\n",
       "      <td>NaN</td>\n",
       "      <td>0</td>\n",
       "      <td>133770.0</td>\n",
       "      <td>00:08:21</td>\n",
       "    </tr>\n",
       "    <tr>\n",
       "      <th>4</th>\n",
       "      <td>123508648</td>\n",
       "      <td>40</td>\n",
       "      <td>20</td>\n",
       "      <td>1</td>\n",
       "      <td>24</td>\n",
       "      <td>51</td>\n",
       "      <td>25</td>\n",
       "      <td>26</td>\n",
       "      <td>7</td>\n",
       "      <td>78745</td>\n",
       "      <td>50724</td>\n",
       "      <td>NaN</td>\n",
       "      <td>17618</td>\n",
       "      <td>NaN</td>\n",
       "      <td>00:04:21</td>\n",
       "    </tr>\n",
       "  </tbody>\n",
       "</table>\n",
       "</div>"
      ],
      "text/plain": [
       "    ReplayID  HeroID  Hero Level  Is Winner  In Game Level  Takedowns  \\\n",
       "0  123508648      42          14          1             24         49   \n",
       "1  123508648      52          12          1             24         51   \n",
       "2  123508648      68           3          0             24         18   \n",
       "3  123508648      59          10          0             24         19   \n",
       "4  123508648      40          20          1             24         51   \n",
       "\n",
       "   Killing Blows  Assists  Deaths  Hero Damage  Siege Damage   Healing  \\\n",
       "0              3       46       1        16313          9331  123140.0   \n",
       "1             15       36       8        89553         28938       NaN   \n",
       "2              7       11      17        74827         53071   16740.0   \n",
       "3              3       16      13        54413         38493       NaN   \n",
       "4             25       26       7        78745         50724       NaN   \n",
       "\n",
       "   Self Healing  Damage Taken Time Spent Dead  \n",
       "0         26859           NaN        00:01:05  \n",
       "1             0           NaN        00:06:31  \n",
       "2         14769           NaN        00:09:48  \n",
       "3             0      133770.0        00:08:21  \n",
       "4         17618           NaN        00:04:21  "
      ]
     },
     "execution_count": 2,
     "metadata": {},
     "output_type": "execute_result"
    }
   ],
   "source": [
    "Rep_Char1 = Rep_Char[['ReplayID','HeroID','Hero Level','Is Winner','In Game Level','Takedowns','Killing Blows','Assists','Deaths','Hero Damage','Siege Damage','Healing','Self Healing','Damage Taken','Time Spent Dead']]\n",
    "Rep_Char1.head()\n"
   ]
  },
  {
   "cell_type": "code",
   "execution_count": 3,
   "metadata": {
    "collapsed": true
   },
   "outputs": [],
   "source": [
    "# 숙련도와 승률부터 시작"
   ]
  },
  {
   "cell_type": "code",
   "execution_count": 3,
   "metadata": {},
   "outputs": [
    {
     "data": {
      "text/html": [
       "<div>\n",
       "<style>\n",
       "    .dataframe thead tr:only-child th {\n",
       "        text-align: right;\n",
       "    }\n",
       "\n",
       "    .dataframe thead th {\n",
       "        text-align: left;\n",
       "    }\n",
       "\n",
       "    .dataframe tbody tr th {\n",
       "        vertical-align: top;\n",
       "    }\n",
       "</style>\n",
       "<table border=\"1\" class=\"dataframe\">\n",
       "  <thead>\n",
       "    <tr style=\"text-align: right;\">\n",
       "      <th></th>\n",
       "      <th>Is Winner</th>\n",
       "      <th>Hero Level</th>\n",
       "    </tr>\n",
       "  </thead>\n",
       "  <tbody>\n",
       "    <tr>\n",
       "      <th>0</th>\n",
       "      <td>1</td>\n",
       "      <td>14</td>\n",
       "    </tr>\n",
       "    <tr>\n",
       "      <th>1</th>\n",
       "      <td>1</td>\n",
       "      <td>12</td>\n",
       "    </tr>\n",
       "    <tr>\n",
       "      <th>2</th>\n",
       "      <td>0</td>\n",
       "      <td>3</td>\n",
       "    </tr>\n",
       "    <tr>\n",
       "      <th>3</th>\n",
       "      <td>0</td>\n",
       "      <td>10</td>\n",
       "    </tr>\n",
       "    <tr>\n",
       "      <th>4</th>\n",
       "      <td>1</td>\n",
       "      <td>20</td>\n",
       "    </tr>\n",
       "  </tbody>\n",
       "</table>\n",
       "</div>"
      ],
      "text/plain": [
       "   Is Winner  Hero Level\n",
       "0          1          14\n",
       "1          1          12\n",
       "2          0           3\n",
       "3          0          10\n",
       "4          1          20"
      ]
     },
     "execution_count": 3,
     "metadata": {},
     "output_type": "execute_result"
    }
   ],
   "source": [
    "# 일단 Replay_character 파일에서 is winner 랑 Hero Level이랑 묶기\n",
    "Rep_Char01 = Rep_Char1[['Is Winner','Hero Level']]\n",
    "Rep_Char01.head()"
   ]
  },
  {
   "cell_type": "code",
   "execution_count": null,
   "metadata": {},
   "outputs": [
    {
     "data": {
      "text/html": [
       "<div>\n",
       "<style>\n",
       "    .dataframe thead tr:only-child th {\n",
       "        text-align: right;\n",
       "    }\n",
       "\n",
       "    .dataframe thead th {\n",
       "        text-align: left;\n",
       "    }\n",
       "\n",
       "    .dataframe tbody tr th {\n",
       "        vertical-align: top;\n",
       "    }\n",
       "</style>\n",
       "<table border=\"1\" class=\"dataframe\">\n",
       "  <thead>\n",
       "    <tr style=\"text-align: right;\">\n",
       "      <th></th>\n",
       "      <th>Is Winner</th>\n",
       "      <th>Hero Level</th>\n",
       "    </tr>\n",
       "  </thead>\n",
       "  <tbody>\n",
       "    <tr>\n",
       "      <th>2</th>\n",
       "      <td>0</td>\n",
       "      <td>3</td>\n",
       "    </tr>\n",
       "    <tr>\n",
       "      <th>3</th>\n",
       "      <td>0</td>\n",
       "      <td>10</td>\n",
       "    </tr>\n",
       "    <tr>\n",
       "      <th>5</th>\n",
       "      <td>0</td>\n",
       "      <td>20</td>\n",
       "    </tr>\n",
       "    <tr>\n",
       "      <th>6</th>\n",
       "      <td>0</td>\n",
       "      <td>7</td>\n",
       "    </tr>\n",
       "    <tr>\n",
       "      <th>8</th>\n",
       "      <td>0</td>\n",
       "      <td>7</td>\n",
       "    </tr>\n",
       "  </tbody>\n",
       "</table>\n",
       "</div>"
      ],
      "text/plain": [
       "   Is Winner  Hero Level\n",
       "2          0           3\n",
       "3          0          10\n",
       "5          0          20\n",
       "6          0           7\n",
       "8          0           7"
      ]
     },
     "execution_count": 4,
     "metadata": {},
     "output_type": "execute_result"
    }
   ],
   "source": [
    "# winner와 defeat 간의 전체 hero level 합 비교\n",
    "# 진 사람들의 총 숙련도\n",
    "a1 = Rep_Char01[Rep_Char01['Is Winner'] == 0]\n",
    "a1.head()\n"
   ]
  },
  {
   "cell_type": "code",
   "execution_count": null,
   "metadata": {},
   "outputs": [],
   "source": [
    "h=0;\n",
    "for i in range(0,900000):\n",
    "    b = 10*i + 10;\n",
    "    a = Rep_Char01[10*i:b]\n",
    "    a1 = a[a['Is Winner'] == 0]\n",
    "    a2 = a1['Hero Level'].sum()\n",
    "    a3 = a[a['Is Winner'] == 1]\n",
    "    a4 = a3['Hero Level'].sum()\n",
    "    if a2<a4:\n",
    "        h = h+1\n",
    "    else:\n",
    "        h = h\n",
    "h"
   ]
  },
  {
   "cell_type": "code",
   "execution_count": null,
   "metadata": {
    "collapsed": true
   },
   "outputs": [],
   "source": [
    "#대충 53%정도 나옴"
   ]
  },
  {
   "cell_type": "code",
   "execution_count": null,
   "metadata": {
    "collapsed": true
   },
   "outputs": [],
   "source": [
    "#2번 -> 전체 딜량 확인"
   ]
  },
  {
   "cell_type": "code",
   "execution_count": null,
   "metadata": {},
   "outputs": [],
   "source": [
    "# ReplayID랑 Hero Damage로 모으기\n",
    "Rep_Char02 = Rep_Char[['ReplayID','Is Winner','Hero Damage','Siege Damage']]\n",
    "Rep_Char02.head()"
   ]
  },
  {
   "cell_type": "code",
   "execution_count": null,
   "metadata": {},
   "outputs": [],
   "source": [
    "Rep_Char02['total Damage'] = Rep_Char02['Hero Damage'] + Rep_Char02['Siege Damage']"
   ]
  },
  {
   "cell_type": "code",
   "execution_count": null,
   "metadata": {},
   "outputs": [],
   "source": [
    "Rep_Char02.head()"
   ]
  },
  {
   "cell_type": "code",
   "execution_count": null,
   "metadata": {},
   "outputs": [],
   "source": [
    "# 합치기\n",
    "\n",
    "k = pd.DataFrame(np.random.randn(953124,6))\n",
    "\n",
    "b2 = Rep_Char02[Rep_Char02['Is Winner'] == 0]   # 진병신들\n",
    "c2 = Rep_Char02[Rep_Char02['Is Winner'] == 1]   # 이긴재형이\n",
    "\n",
    "\n",
    "b2.head()\n"
   ]
  },
  {
   "cell_type": "code",
   "execution_count": null,
   "metadata": {},
   "outputs": [],
   "source": [
    "#초기값\n",
    "for i in range(0,1000):\n",
    "    k[0].loc[i] = b2['Hero Damage'].iloc[5*i];\n",
    "    k[1].loc[i] = c2['Hero Damage'].iloc[5*i];\n",
    "    k[2].loc[i] = b2['Siege Damage'].iloc[5*i];\n",
    "    k[3].loc[i] = c2['Siege Damage'].iloc[5*i];\n",
    "    k[4].loc[i] = b2['total Damage'].iloc[5*i];\n",
    "    k[5].loc[i] = c2['total Damage'].iloc[5*i];\n",
    "\n",
    "k.head()"
   ]
  },
  {
   "cell_type": "code",
   "execution_count": null,
   "metadata": {},
   "outputs": [],
   "source": [
    "for j in range(0,1000):\n",
    "    a = j*5;\n",
    "    b = j*5 + 4;\n",
    "    for i in range(a,b):\n",
    "        if b2['ReplayID'].iloc[i] == b2['ReplayID'].iloc[i+1]:\n",
    "            k[0].loc[j] = k[0].loc[j] + b2['Hero Damage'].iloc[i+1]\n",
    "        if c2['ReplayID'].iloc[i] == c2['ReplayID'].iloc[i+1]:\n",
    "            k[1].loc[j] = k[0].loc[j] + c2['Hero Damage'].iloc[i+1]\n",
    "        if b2['ReplayID'].iloc[i] == b2['ReplayID'].iloc[i+1]:\n",
    "            k[2].loc[j] = k[0].loc[j] + b2['Siege Damage'].iloc[i+1]\n",
    "        if c2['ReplayID'].iloc[i] == c2['ReplayID'].iloc[i+1]:\n",
    "            k[3].loc[j] = k[0].loc[j] + c2['Siege Damage'].iloc[i+1]\n",
    "        if b2['ReplayID'].iloc[i] == b2['ReplayID'].iloc[i+1]:\n",
    "            k[4].loc[j] = k[0].loc[j] + b2['total Damage'].iloc[i+1]\n",
    "        if c2['ReplayID'].iloc[i] == c2['ReplayID'].iloc[i+1]:\n",
    "            k[5].loc[j] = k[0].loc[j] + c2['total Damage'].iloc[i+1]\n",
    "k.head(10)"
   ]
  },
  {
   "cell_type": "code",
   "execution_count": null,
   "metadata": {},
   "outputs": [],
   "source": [
    "k.columns = ['loser Hero Damage', 'winner Hero Damage','loser siege Damage', 'winner siege Damage', 'loser total Damage', 'winner total Damage']\n",
    "k.head()"
   ]
  },
  {
   "cell_type": "code",
   "execution_count": null,
   "metadata": {},
   "outputs": [],
   "source": [
    "k1 = k.head(1000)\n",
    "k1.describe()"
   ]
  },
  {
   "cell_type": "code",
   "execution_count": null,
   "metadata": {},
   "outputs": [],
   "source": [
    "k3 = pd.DataFrame(np.random.randn(2,3))\n",
    "\n",
    "k3.columns = ['Hero Damage', 'siege Damage', 'total Damage']\n",
    "\n",
    "k3['Hero Damage'].iloc[0] = k1['loser Hero Damage'].sum()\n",
    "k3['siege Damage'].iloc[0] = k1['loser siege Damage'].sum()\n",
    "k3['total Damage'].iloc[0] = k1['loser total Damage'].sum()\n",
    "k3['Hero Damage'].iloc[1] = k1['winner Hero Damage'].sum()\n",
    "k3['siege Damage'].iloc[1] = k1['winner siege Damage'].sum()\n",
    "k3['total Damage'].iloc[1] = k1['winner total Damage'].sum()\n",
    "\n",
    "\n",
    "k3.index=['loser','winner']\n",
    "k3.head()"
   ]
  },
  {
   "cell_type": "code",
   "execution_count": null,
   "metadata": {},
   "outputs": [],
   "source": [
    "k3.plot(kind='bar')\n",
    "plt.grid()"
   ]
  },
  {
   "cell_type": "code",
   "execution_count": 32,
   "metadata": {
    "collapsed": true
   },
   "outputs": [],
   "source": []
  },
  {
   "cell_type": "code",
   "execution_count": null,
   "metadata": {
    "collapsed": true
   },
   "outputs": [],
   "source": []
  },
  {
   "cell_type": "code",
   "execution_count": null,
   "metadata": {
    "collapsed": true
   },
   "outputs": [],
   "source": []
  },
  {
   "cell_type": "code",
   "execution_count": null,
   "metadata": {
    "collapsed": true
   },
   "outputs": [],
   "source": [
    "j1 = Rep_Char1[['Is Winner','HeroID']]\n",
    "j1.head()"
   ]
  },
  {
   "cell_type": "code",
   "execution_count": null,
   "metadata": {
    "collapsed": true
   },
   "outputs": [],
   "source": []
  },
  {
   "cell_type": "code",
   "execution_count": null,
   "metadata": {
    "collapsed": true
   },
   "outputs": [],
   "source": []
  },
  {
   "cell_type": "code",
   "execution_count": null,
   "metadata": {
    "collapsed": true
   },
   "outputs": [],
   "source": []
  },
  {
   "cell_type": "code",
   "execution_count": null,
   "metadata": {
    "collapsed": true
   },
   "outputs": [],
   "source": []
  },
  {
   "cell_type": "code",
   "execution_count": null,
   "metadata": {
    "collapsed": true
   },
   "outputs": [],
   "source": []
  },
  {
   "cell_type": "code",
   "execution_count": null,
   "metadata": {
    "collapsed": true
   },
   "outputs": [],
   "source": []
  },
  {
   "cell_type": "code",
   "execution_count": null,
   "metadata": {
    "collapsed": true
   },
   "outputs": [],
   "source": []
  },
  {
   "cell_type": "code",
   "execution_count": null,
   "metadata": {
    "collapsed": true
   },
   "outputs": [],
   "source": []
  },
  {
   "cell_type": "code",
   "execution_count": null,
   "metadata": {
    "collapsed": true
   },
   "outputs": [],
   "source": []
  },
  {
   "cell_type": "code",
   "execution_count": null,
   "metadata": {
    "collapsed": true
   },
   "outputs": [],
   "source": []
  },
  {
   "cell_type": "code",
   "execution_count": null,
   "metadata": {
    "collapsed": true
   },
   "outputs": [],
   "source": []
  },
  {
   "cell_type": "code",
   "execution_count": null,
   "metadata": {
    "collapsed": true
   },
   "outputs": [],
   "source": []
  },
  {
   "cell_type": "code",
   "execution_count": null,
   "metadata": {
    "collapsed": true
   },
   "outputs": [],
   "source": []
  },
  {
   "cell_type": "code",
   "execution_count": null,
   "metadata": {
    "collapsed": true
   },
   "outputs": [],
   "source": []
  },
  {
   "cell_type": "code",
   "execution_count": null,
   "metadata": {
    "collapsed": true
   },
   "outputs": [],
   "source": []
  },
  {
   "cell_type": "code",
   "execution_count": null,
   "metadata": {
    "collapsed": true
   },
   "outputs": [],
   "source": []
  },
  {
   "cell_type": "code",
   "execution_count": null,
   "metadata": {
    "collapsed": true
   },
   "outputs": [],
   "source": []
  },
  {
   "cell_type": "code",
   "execution_count": null,
   "metadata": {
    "collapsed": true
   },
   "outputs": [],
   "source": []
  },
  {
   "cell_type": "code",
   "execution_count": null,
   "metadata": {
    "collapsed": true
   },
   "outputs": [],
   "source": []
  },
  {
   "cell_type": "code",
   "execution_count": null,
   "metadata": {
    "collapsed": true
   },
   "outputs": [],
   "source": []
  },
  {
   "cell_type": "code",
   "execution_count": null,
   "metadata": {
    "collapsed": true
   },
   "outputs": [],
   "source": []
  },
  {
   "cell_type": "code",
   "execution_count": null,
   "metadata": {
    "collapsed": true
   },
   "outputs": [],
   "source": []
  },
  {
   "cell_type": "code",
   "execution_count": null,
   "metadata": {
    "collapsed": true
   },
   "outputs": [],
   "source": []
  },
  {
   "cell_type": "code",
   "execution_count": null,
   "metadata": {
    "collapsed": true
   },
   "outputs": [],
   "source": []
  },
  {
   "cell_type": "code",
   "execution_count": null,
   "metadata": {
    "collapsed": true
   },
   "outputs": [],
   "source": []
  },
  {
   "cell_type": "code",
   "execution_count": null,
   "metadata": {
    "collapsed": true
   },
   "outputs": [],
   "source": []
  },
  {
   "cell_type": "code",
   "execution_count": null,
   "metadata": {
    "collapsed": true
   },
   "outputs": [],
   "source": []
  },
  {
   "cell_type": "code",
   "execution_count": null,
   "metadata": {
    "collapsed": true
   },
   "outputs": [],
   "source": []
  },
  {
   "cell_type": "code",
   "execution_count": null,
   "metadata": {
    "collapsed": true
   },
   "outputs": [],
   "source": []
  },
  {
   "cell_type": "code",
   "execution_count": null,
   "metadata": {
    "collapsed": true
   },
   "outputs": [],
   "source": []
  }
 ],
 "metadata": {
  "kernelspec": {
   "display_name": "Python 3",
   "language": "python",
   "name": "python3"
  },
  "language_info": {
   "codemirror_mode": {
    "name": "ipython",
    "version": 3
   },
   "file_extension": ".py",
   "mimetype": "text/x-python",
   "name": "python",
   "nbconvert_exporter": "python",
   "pygments_lexer": "ipython3",
   "version": "3.6.1"
  }
 },
 "nbformat": 4,
 "nbformat_minor": 2
}
